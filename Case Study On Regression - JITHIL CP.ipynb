{
 "cells": [
  {
   "cell_type": "code",
   "execution_count": 2,
   "id": "a997e482",
   "metadata": {},
   "outputs": [],
   "source": [
    "import numpy as np\n",
    "import pandas as pd\n",
    "import matplotlib.pyplot as plt\n",
    "from sklearn.linear_model import LinearRegression, Lasso\n",
    "from sklearn.model_selection import train_test_split"
   ]
  },
  {
   "cell_type": "code",
   "execution_count": 3,
   "id": "935ab7c5",
   "metadata": {},
   "outputs": [],
   "source": [
    "#Load Dataset\n",
    "data=pd.read_csv('F:/ict/car_age_price.csv')"
   ]
  },
  {
   "cell_type": "code",
   "execution_count": 4,
   "id": "6d1aaa85",
   "metadata": {},
   "outputs": [
    {
     "data": {
      "text/html": [
       "<div>\n",
       "<style scoped>\n",
       "    .dataframe tbody tr th:only-of-type {\n",
       "        vertical-align: middle;\n",
       "    }\n",
       "\n",
       "    .dataframe tbody tr th {\n",
       "        vertical-align: top;\n",
       "    }\n",
       "\n",
       "    .dataframe thead th {\n",
       "        text-align: right;\n",
       "    }\n",
       "</style>\n",
       "<table border=\"1\" class=\"dataframe\">\n",
       "  <thead>\n",
       "    <tr style=\"text-align: right;\">\n",
       "      <th></th>\n",
       "      <th>Year</th>\n",
       "      <th>Price</th>\n",
       "    </tr>\n",
       "  </thead>\n",
       "  <tbody>\n",
       "    <tr>\n",
       "      <th>0</th>\n",
       "      <td>2018</td>\n",
       "      <td>465000</td>\n",
       "    </tr>\n",
       "    <tr>\n",
       "      <th>1</th>\n",
       "      <td>2019</td>\n",
       "      <td>755000</td>\n",
       "    </tr>\n",
       "    <tr>\n",
       "      <th>2</th>\n",
       "      <td>2019</td>\n",
       "      <td>700000</td>\n",
       "    </tr>\n",
       "    <tr>\n",
       "      <th>3</th>\n",
       "      <td>2018</td>\n",
       "      <td>465000</td>\n",
       "    </tr>\n",
       "    <tr>\n",
       "      <th>4</th>\n",
       "      <td>2018</td>\n",
       "      <td>465000</td>\n",
       "    </tr>\n",
       "  </tbody>\n",
       "</table>\n",
       "</div>"
      ],
      "text/plain": [
       "   Year   Price\n",
       "0  2018  465000\n",
       "1  2019  755000\n",
       "2  2019  700000\n",
       "3  2018  465000\n",
       "4  2018  465000"
      ]
     },
     "execution_count": 4,
     "metadata": {},
     "output_type": "execute_result"
    }
   ],
   "source": [
    "data.head()"
   ]
  },
  {
   "cell_type": "code",
   "execution_count": 5,
   "id": "d4af33f3",
   "metadata": {},
   "outputs": [
    {
     "data": {
      "text/plain": [
       "Year     0\n",
       "Price    0\n",
       "dtype: int64"
      ]
     },
     "execution_count": 5,
     "metadata": {},
     "output_type": "execute_result"
    }
   ],
   "source": [
    "data.isna().sum()"
   ]
  },
  {
   "cell_type": "code",
   "execution_count": 6,
   "id": "64af5c51",
   "metadata": {},
   "outputs": [],
   "source": [
    "# Extract the year and price columns\n",
    "x = data['Year'].values.reshape(-1, 1)\n",
    "y = data['Price'].values"
   ]
  },
  {
   "cell_type": "code",
   "execution_count": 7,
   "id": "df48fee0",
   "metadata": {},
   "outputs": [
    {
     "data": {
      "text/plain": [
       "numpy.ndarray"
      ]
     },
     "execution_count": 7,
     "metadata": {},
     "output_type": "execute_result"
    }
   ],
   "source": [
    "type(x)"
   ]
  },
  {
   "cell_type": "code",
   "execution_count": 8,
   "id": "74fde1eb",
   "metadata": {},
   "outputs": [],
   "source": [
    "# Split the data into training and test sets\n",
    "x_train, x_test, y_train, y_test = train_test_split(x, y,random_state=42,test_size=0.25)"
   ]
  },
  {
   "cell_type": "code",
   "execution_count": 9,
   "id": "bff77d74",
   "metadata": {},
   "outputs": [],
   "source": [
    "# Create a linear regression model\n",
    "lin_reg = LinearRegression()\n",
    "lin_reg=lin_reg.fit(x_train, y_train)"
   ]
  },
  {
   "cell_type": "code",
   "execution_count": 10,
   "id": "74832a55",
   "metadata": {},
   "outputs": [],
   "source": [
    "# Evaluate the models with r^2\n",
    "lin_reg_score = lin_reg.score(x_test, y_test)"
   ]
  },
  {
   "cell_type": "code",
   "execution_count": 11,
   "id": "74bbe919",
   "metadata": {},
   "outputs": [],
   "source": [
    "# Create a lasso regression model\n",
    "lasso_reg = Lasso()\n",
    "lasso_reg=lasso_reg.fit(x_train, y_train)"
   ]
  },
  {
   "cell_type": "code",
   "execution_count": 12,
   "id": "49ffbf92",
   "metadata": {},
   "outputs": [],
   "source": [
    "# Evaluate the models with r^2\n",
    "lasso_reg_score = lasso_reg.score(x_test, y_test)"
   ]
  },
  {
   "cell_type": "code",
   "execution_count": 13,
   "id": "f53821a8",
   "metadata": {},
   "outputs": [
    {
     "name": "stdout",
     "output_type": "stream",
     "text": [
      "Linear regression score: 0.4347961632108521\n",
      "Lasso regression score: 0.4348007175862566\n"
     ]
    }
   ],
   "source": [
    "# Print the scores\n",
    "print(\"Linear regression score:\", lin_reg_score)\n",
    "print(\"Lasso regression score:\", lasso_reg_score)"
   ]
  },
  {
   "cell_type": "code",
   "execution_count": 14,
   "id": "603fb887",
   "metadata": {},
   "outputs": [
    {
     "name": "stdout",
     "output_type": "stream",
     "text": [
      "Predicted price of a 2022 model second-hand Grand i10: 740160.1193776578\n"
     ]
    }
   ],
   "source": [
    "# Predict the price of a 2022 model second-hand Grand i10\n",
    "predicted_price = lin_reg.predict([[2022]])[0]\n",
    "print(\"Predicted price of a 2022 model second-hand Grand i10:\", predicted_price)"
   ]
  },
  {
   "cell_type": "code",
   "execution_count": 15,
   "id": "089297b1",
   "metadata": {},
   "outputs": [
    {
     "name": "stdout",
     "output_type": "stream",
     "text": [
      "Predicted price of a 2021 model second-hand Grand i10: 693181.1039321125\n"
     ]
    }
   ],
   "source": [
    "predicted_price = lin_reg.predict([[2021]])[0]\n",
    "print(\"Predicted price of a 2021 model second-hand Grand i10:\", predicted_price)"
   ]
  },
  {
   "cell_type": "code",
   "execution_count": 16,
   "id": "6e4f3b6e",
   "metadata": {},
   "outputs": [
    {
     "data": {
      "image/png": "[encoded data removed]",
      "text/plain": [
       "<Figure size 640x480 with 1 Axes>"
      ]
     },
     "metadata": {},
     "output_type": "display_data"
    }
   ],
   "source": [
    "plt.scatter(x, y, label='Data')\n",
    "plt.plot(x_test, lin_reg.predict(x_test), color='red', label='Linear Regression')\n",
    "plt.legend()\n",
    "plt.show()"
   ]
  },
  {
   "cell_type": "code",
   "execution_count": 17,
   "id": "647df49d",
   "metadata": {},
   "outputs": [
    {
     "name": "stdout",
     "output_type": "stream",
     "text": [
      "Lasso regression is performing better.\n"
     ]
    }
   ],
   "source": [
    "# Determine which model is performing better\n",
    "if lin_reg_score > lasso_reg_score:\n",
    "    print(\"Linear regression is performing better.\")\n",
    "else:\n",
    "    print(\"Lasso regression is performing better.\")"
   ]
  },
  {
   "cell_type": "code",
   "execution_count": null,
   "id": "1562a0cb",
   "metadata": {},
   "outputs": [],
   "source": []
  }
 ],
 "metadata": {
  "kernelspec": {
   "display_name": "Python 3 (ipykernel)",
   "language": "python",
   "name": "python3"
  },
  "language_info": {
   "codemirror_mode": {
    "name": "ipython",
    "version": 3
   },
   "file_extension": ".py",
   "mimetype": "text/x-python",
   "name": "python",
   "nbconvert_exporter": "python",
   "pygments_lexer": "ipython3",
   "version": "3.9.13"
  }
 },
 "nbformat": 4,
 "nbformat_minor": 5
}
